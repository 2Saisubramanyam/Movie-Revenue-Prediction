{
  "nbformat": 4,
  "nbformat_minor": 0,
  "metadata": {
    "colab": {
      "name": "Untitled13.ipynb",
      "provenance": [],
      "collapsed_sections": []
    },
    "kernelspec": {
      "name": "python3",
      "display_name": "Python 3"
    }
  },
  "cells": [
    {
      "cell_type": "markdown",
      "metadata": {
        "id": "qiaJSEkltSDx"
      },
      "source": [
        "# Patterns in **Python** "
      ]
    },
    {
      "cell_type": "markdown",
      "metadata": {
        "id": "norIe_IrtauS"
      },
      "source": [
        "Right Triangle"
      ]
    },
    {
      "cell_type": "code",
      "metadata": {
        "id": "jFVwocvDtP_E",
        "outputId": "50926333-3f47-4cbb-cabc-279e0da298fc",
        "colab": {
          "base_uri": "https://localhost:8080/",
          "height": 118
        }
      },
      "source": [
        "n=int(input())\n",
        "for i in range(1,n+1):\n",
        "  for j in range(1,i+1):\n",
        "    print(\"*\",end=\" \")\n",
        "  print()"
      ],
      "execution_count": 1,
      "outputs": [
        {
          "output_type": "stream",
          "text": [
            "5\n",
            "* \n",
            "* * \n",
            "* * * \n",
            "* * * * \n",
            "* * * * * \n"
          ],
          "name": "stdout"
        }
      ]
    },
    {
      "cell_type": "markdown",
      "metadata": {
        "id": "wdqxq-jWty9l"
      },
      "source": [
        "Opposite of Right Triangle"
      ]
    },
    {
      "cell_type": "code",
      "metadata": {
        "id": "ixRGrDWYtt3q",
        "outputId": "833e2311-4f19-4ae0-f378-d09b53dfe3a0",
        "colab": {
          "base_uri": "https://localhost:8080/",
          "height": 134
        }
      },
      "source": [
        "n=int(input())\n",
        "for i in range(0,n+1):\n",
        "  for j in range(i,n+1):\n",
        "    print(\"*\",end=\" \")\n",
        "  print()"
      ],
      "execution_count": 2,
      "outputs": [
        {
          "output_type": "stream",
          "text": [
            "5\n",
            "* * * * * * \n",
            "* * * * * \n",
            "* * * * \n",
            "* * * \n",
            "* * \n",
            "* \n"
          ],
          "name": "stdout"
        }
      ]
    },
    {
      "cell_type": "markdown",
      "metadata": {
        "id": "6LtIIlIEuIma"
      },
      "source": [
        "Odd Right Triangle"
      ]
    },
    {
      "cell_type": "code",
      "metadata": {
        "id": "70CXaTKCuD66",
        "outputId": "52e7dbfd-6261-47a5-be5b-6aa94ff16b0e",
        "colab": {
          "base_uri": "https://localhost:8080/",
          "height": 118
        }
      },
      "source": [
        "n=int(input())\n",
        "k=1\n",
        "for i in range(0,n+1):\n",
        "  for j in range(1,k+1):\n",
        "    print(\"*\",end=\" \")\n",
        "  k+=2\n",
        "  print()\n"
      ],
      "execution_count": 4,
      "outputs": [
        {
          "output_type": "stream",
          "text": [
            "4\n",
            "* \n",
            "* * * \n",
            "* * * * * \n",
            "* * * * * * * \n",
            "* * * * * * * * * \n"
          ],
          "name": "stdout"
        }
      ]
    },
    {
      "cell_type": "markdown",
      "metadata": {
        "id": "ENGsBGueufEk"
      },
      "source": [
        "Triangle"
      ]
    },
    {
      "cell_type": "code",
      "metadata": {
        "id": "_NcoL9S0uXuJ",
        "outputId": "b54e28ba-5101-456d-cff5-53f462fe8734",
        "colab": {
          "base_uri": "https://localhost:8080/",
          "height": 101
        }
      },
      "source": [
        "n=int(input())\n",
        "for i in range(0,n):\n",
        "  for j in range(0,n-i-1):\n",
        "    print(end=\" \")\n",
        "  for j in range(0,i+1):\n",
        "    print(\"*\",end=\" \")\n",
        "  print()"
      ],
      "execution_count": 6,
      "outputs": [
        {
          "output_type": "stream",
          "text": [
            "4\n",
            "   * \n",
            "  * * \n",
            " * * * \n",
            "* * * * \n"
          ],
          "name": "stdout"
        }
      ]
    },
    {
      "cell_type": "markdown",
      "metadata": {
        "id": "NxODhQmIvOcU"
      },
      "source": [
        "Opposite Triangle"
      ]
    },
    {
      "cell_type": "code",
      "metadata": {
        "id": "zbI5lXU1uzcQ",
        "outputId": "acff9c49-3bc2-4f60-98ca-d594d716d43b",
        "colab": {
          "base_uri": "https://localhost:8080/",
          "height": 101
        }
      },
      "source": [
        "n=int(input())\n",
        "for i in range(n,0,-1):\n",
        "  for j in range(0,n-i):\n",
        "    print(end=\" \")\n",
        "  for j in range(0,i):\n",
        "    print(\"*\",end=\" \")\n",
        "  print()\n",
        "  "
      ],
      "execution_count": 7,
      "outputs": [
        {
          "output_type": "stream",
          "text": [
            "4\n",
            "* * * * \n",
            " * * * \n",
            "  * * \n",
            "   * \n"
          ],
          "name": "stdout"
        }
      ]
    },
    {
      "cell_type": "code",
      "metadata": {
        "id": "IV9dMo_Jv2RI"
      },
      "source": [
        ""
      ],
      "execution_count": null,
      "outputs": []
    }
  ]
}